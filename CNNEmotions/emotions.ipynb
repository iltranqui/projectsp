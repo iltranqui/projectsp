{
 "cells": [
  {
   "cell_type": "markdown",
   "metadata": {},
   "source": [
    "# Emotions and CNN Project\n",
    "\n",
    "Goal: create an CNN model which can predict the emotions and use your own pictures to actually recognize your emotions"
   ]
  },
  {
   "cell_type": "code",
   "execution_count": 2,
   "metadata": {},
   "outputs": [
    {
     "name": "stdout",
     "output_type": "stream",
     "text": [
      "File Name                                             Modified             Size\n",
      "fer2013.csv                                    2019-10-01 04:15:22    301072766\n",
      "extraction...\n",
      "Done!\n"
     ]
    }
   ],
   "source": [
    "# Extracting the zipfile \n",
    "from zipfile import ZipFile\n",
    "\n",
    "# specifity the name of the file\n",
    "zippet = \"fer2013.csv.zip\"\n",
    "\n",
    "# open the zip file in read mode\n",
    "with ZipFile(zippet, 'r') as zip:\n",
    "    # list all the contents\n",
    "    zip.printdir()\n",
    "\n",
    "    # extract all the files\n",
    "    print('extraction...')\n",
    "    zip.extractall()\n",
    "    print('Done!')"
   ]
  },
  {
   "cell_type": "markdown",
   "metadata": {},
   "source": [
    "Who can understand anything of this ? it is RGB images with 48x48 pixels. \n",
    "\n",
    "Can i trasfomr the 1st row into an image ? "
   ]
  },
  {
   "cell_type": "code",
   "execution_count": 7,
   "metadata": {},
   "outputs": [
    {
     "name": "stdout",
     "output_type": "stream",
     "text": [
      "<class 'pandas.core.frame.DataFrame'>\n",
      "RangeIndex: 35887 entries, 0 to 35886\n",
      "Data columns (total 3 columns):\n",
      " #   Column   Non-Null Count  Dtype \n",
      "---  ------   --------------  ----- \n",
      " 0   emotion  35887 non-null  int64 \n",
      " 1   pixels   35887 non-null  object\n",
      " 2   Usage    35887 non-null  object\n",
      "dtypes: int64(1), object(2)\n",
      "memory usage: 841.2+ KB\n"
     ]
    }
   ],
   "source": [
    "import pandas as pd\n",
    "\n",
    "face = pd.read_csv('fer2013.csv')\n",
    "\n",
    "face.info();"
   ]
  },
  {
   "cell_type": "code",
   "execution_count": 27,
   "metadata": {},
   "outputs": [
    {
     "data": {
      "text/plain": [
       "2304"
      ]
     },
     "execution_count": 27,
     "metadata": {},
     "output_type": "execute_result"
    }
   ],
   "source": [
    "# 1st row and the pixels image\n",
    "face.loc[0,'pixels'];\n",
    "# type(face.loc[0,'pixels'])\n",
    "image1 = list(map(int, face.loc[0,'pixels'].split(\" \")))\n",
    "len(image1)"
   ]
  },
  {
   "cell_type": "markdown",
   "metadata": {},
   "source": [
    "as we can see the pixels are a 48x48 image since the len is 2304 = 48x48"
   ]
  },
  {
   "cell_type": "code",
   "execution_count": null,
   "metadata": {},
   "outputs": [],
   "source": [
    "import re\n",
    "import numpy as np\n",
    "from PIL import Image\n",
    "from pathlib import Path\n",
    "\n",
    "\n",
    "\n",
    "# Open image file, slurp the lot\n",
    "contents = Path('image.txt').read_text()\n",
    "\n",
    "# Make a list of anything that looks like numbers using a regex...\n",
    "# ... taking first as height, second as width and remainder as pixels\n",
    "h, w, *pixels = re.findall(r'[0-9]+', contents)\n",
    "\n",
    "# Now make pixels into Numpy array of uint8 and reshape to correct height, width and depth\n",
    "na = np.array(pixels, dtype=np.uint8).reshape((int(h),int(w),3))\n",
    "\n",
    "# Now make the Numpy array into a PIL Image and save\n",
    "Image.fromarray(na).save(\"result.png\")"
   ]
  },
  {
   "cell_type": "code",
   "execution_count": 24,
   "metadata": {},
   "outputs": [
    {
     "ename": "SyntaxError",
     "evalue": "invalid syntax (520615298.py, line 3)",
     "output_type": "error",
     "traceback": [
      "\u001b[1;36m  File \u001b[1;32m\"C:\\Users\\enric\\AppData\\Local\\Temp\\ipykernel_33496\\520615298.py\"\u001b[1;36m, line \u001b[1;32m3\u001b[0m\n\u001b[1;33m    b = a.split(',').map(function(item) {\u001b[0m\n\u001b[1;37m                                        ^\u001b[0m\n\u001b[1;31mSyntaxError\u001b[0m\u001b[1;31m:\u001b[0m invalid syntax\n"
     ]
    }
   ],
   "source": []
  }
 ],
 "metadata": {
  "interpreter": {
   "hash": "0bc47dd249f7da4cbfd7c9052535130193f76861efa818615cbe728367195f1c"
  },
  "kernelspec": {
   "display_name": "Python 3.7.11 ('ludo')",
   "language": "python",
   "name": "python3"
  },
  "language_info": {
   "codemirror_mode": {
    "name": "ipython",
    "version": 3
   },
   "file_extension": ".py",
   "mimetype": "text/x-python",
   "name": "python",
   "nbconvert_exporter": "python",
   "pygments_lexer": "ipython3",
   "version": "3.7.11"
  },
  "orig_nbformat": 4
 },
 "nbformat": 4,
 "nbformat_minor": 2
}
